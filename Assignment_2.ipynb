{
  "nbformat": 4,
  "nbformat_minor": 0,
  "metadata": {
    "colab": {
      "provenance": [],
      "authorship_tag": "ABX9TyMeZ6WVlveV7gLVQE2YSwIa",
      "include_colab_link": true
    },
    "kernelspec": {
      "name": "python3",
      "display_name": "Python 3"
    },
    "language_info": {
      "name": "python"
    }
  },
  "cells": [
    {
      "cell_type": "markdown",
      "metadata": {
        "id": "view-in-github",
        "colab_type": "text"
      },
      "source": [
        "<a href=\"https://colab.research.google.com/github/avikgoyal/Assignment2_python/blob/main/Assignment_2.ipynb\" target=\"_parent\"><img src=\"https://colab.research.google.com/assets/colab-badge.svg\" alt=\"Open In Colab\"/></a>"
      ]
    },
    {
      "cell_type": "markdown",
      "source": [
        "1. Write a python program to sort the list of heterogeneous data. \n",
        "e.g. \n",
        "L = [\"Ram\", 1, \"Shyam\", 2, \"Aman\", 3]\n",
        "print(L)\n",
        "L.sort()\n",
        "print(L)\n",
        "# Above code gives error. Correct it"
      ],
      "metadata": {
        "id": "1SGLoEWH-4uu"
      }
    },
    {
      "cell_type": "code",
      "source": [
        "L = [\"Ram\", 1, \"Shyam\", 2, \"Aman\", 3] \n",
        "L1=[]\n",
        "L2=[]\n",
        "for i in range (6):\n",
        "  if(type(L[i])==int):\n",
        "    L2.append(L[i])\n",
        "  else:\n",
        "    L1.append(L[i])\n",
        "print(L1,L2)\n",
        "for j in range(3):\n",
        "  L2[j]=str(L2[j])\n",
        "\n",
        "print(L2)\n",
        "l3=L2+L1\n",
        "l3.sort()\n",
        "print(l3)\n",
        "\n",
        "\n",
        "\n",
        "\n"
      ],
      "metadata": {
        "colab": {
          "base_uri": "https://localhost:8080/"
        },
        "id": "CBXeJDPf-6ye",
        "outputId": "b07ee9d4-e65e-4d71-cbbc-85ffdc079e8c"
      },
      "execution_count": 7,
      "outputs": [
        {
          "output_type": "stream",
          "name": "stdout",
          "text": [
            "['Ram', 'Shyam', 'Aman'] [1, 2, 3]\n",
            "['1', '2', '3']\n",
            "['1', '2', '3', 'Aman', 'Ram', 'Shyam']\n"
          ]
        }
      ]
    }
  ]
}